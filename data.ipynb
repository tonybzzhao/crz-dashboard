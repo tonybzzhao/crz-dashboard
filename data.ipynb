{
 "cells": [
  {
   "cell_type": "code",
   "execution_count": 4,
   "id": "20b90786",
   "metadata": {},
   "outputs": [
    {
     "name": "stdout",
     "output_type": "stream",
     "text": [
      "Aggregation complete. Aggregated data saved to /Users/tonyzhao/Documents/GitHub/crz-dashboard/aggregated_entries.csv\n",
      "Vehicle composition aggregation complete. Data saved to /Users/tonyzhao/Documents/GitHub/crz-dashboard/aggregated_composition.csv\n"
     ]
    }
   ],
   "source": [
    "import pandas as pd\n",
    "\n",
    "# Define the file paths\n",
    "input_csv = '/Users/tonyzhao/Documents/GitHub/crz-dashboard/vehicle-vol-data.csv'\n",
    "output_csv = '/Users/tonyzhao/Documents/GitHub/crz-dashboard/aggregated_entries.csv'\n",
    "\n",
    "# Read the CSV file\n",
    "df = pd.read_csv(input_csv)\n",
    "\n",
    "# Convert 'Toll Date' to datetime (adjust format if needed)\n",
    "df['Toll Date'] = pd.to_datetime(df['Toll Date'], format='%m/%d/%Y')\n",
    "\n",
    "# Group by Toll Date and Detection Group, summing up CRZ Entries (and optionally Excluded Roadway Entries)\n",
    "aggregated = df.groupby(['Toll Date', 'Detection Group'], as_index=False).agg({\n",
    "    'CRZ Entries': 'sum',\n",
    "    # Uncomment the next line if you also want to aggregate excluded roadway entries\n",
    "    # 'Excluded Roadway Entries': 'sum'\n",
    "})\n",
    "\n",
    "# Save the aggregated data to CSV\n",
    "aggregated.to_csv(output_csv, index=False)\n",
    "\n",
    "print(f\"Aggregation complete. Aggregated data saved to {output_csv}\")\n",
    "\n",
    "# Group by Toll Date, Detection Group, and Vehicle Class\n",
    "composition = df.groupby(['Toll Date', 'Detection Group', 'Vehicle Class'], as_index=False)['CRZ Entries'].sum()\n",
    "\n",
    "# Save composition data\n",
    "composition.to_csv('/Users/tonyzhao/Documents/GitHub/crz-dashboard/aggregated_composition.csv', index=False)\n",
    "\n",
    "print(\"Vehicle composition aggregation complete. Data saved to /Users/tonyzhao/Documents/GitHub/crz-dashboard/aggregated_composition.csv\")"
   ]
  },
  {
   "cell_type": "code",
   "execution_count": 5,
   "id": "020e2d99",
   "metadata": {},
   "outputs": [
    {
     "name": "stdout",
     "output_type": "stream",
     "text": [
      "Aggregated entries JSON created at data/aggregated_entries.json\n",
      "Aggregated composition JSON created at data/aggregated_composition.json\n"
     ]
    }
   ],
   "source": [
    "import pandas as pd\n",
    "import json\n",
    "\n",
    "# Define file paths\n",
    "input_csv = 'data/vehicle-vol-data.csv'\n",
    "output_json_entries = 'data/aggregated_entries.json'\n",
    "output_json_composition = 'data/aggregated_composition.json'\n",
    "\n",
    "# Read the CSV file\n",
    "df = pd.read_csv(input_csv)\n",
    "\n",
    "# Convert 'Toll Date' to datetime (adjust the format if needed)\n",
    "df['Toll Date'] = pd.to_datetime(df['Toll Date'], format='%m/%d/%Y')\n",
    "\n",
    "# --- Aggregate Entries for Map Markers ---\n",
    "# Group by 'Toll Date' and 'Detection Group' and sum the 'CRZ Entries'\n",
    "aggregated = df.groupby(['Toll Date', 'Detection Group'], as_index=False)['CRZ Entries'].sum()\n",
    "\n",
    "# Convert 'Toll Date' back to string format (e.g., YYYY-MM-DD) for JSON compatibility\n",
    "aggregated['Toll Date'] = aggregated['Toll Date'].dt.strftime('%Y-%m-%d')\n",
    "\n",
    "# Convert DataFrame to list of dictionaries\n",
    "aggregated_records = aggregated.to_dict(orient='records')\n",
    "\n",
    "# Write the aggregated data to a JSON file\n",
    "with open(output_json_entries, 'w') as f:\n",
    "    json.dump(aggregated_records, f)\n",
    "print(f\"Aggregated entries JSON created at {output_json_entries}\")\n",
    "\n",
    "# --- Aggregate Composition Data for Popups ---\n",
    "# Group by 'Toll Date', 'Detection Group', and 'Vehicle Class'\n",
    "composition = df.groupby(['Toll Date', 'Detection Group', 'Vehicle Class'], as_index=False)['CRZ Entries'].sum()\n",
    "\n",
    "# Format 'Toll Date' as string\n",
    "composition['Toll Date'] = composition['Toll Date'].dt.strftime('%Y-%m-%d')\n",
    "\n",
    "# Convert DataFrame to list of dictionaries\n",
    "composition_records = composition.to_dict(orient='records')\n",
    "\n",
    "# Write the composition data to a JSON file\n",
    "with open(output_json_composition, 'w') as f:\n",
    "    json.dump(composition_records, f)\n",
    "print(f\"Aggregated composition JSON created at {output_json_composition}\")"
   ]
  },
  {
   "cell_type": "code",
   "execution_count": null,
   "id": "e86555b6",
   "metadata": {},
   "outputs": [],
   "source": []
  }
 ],
 "metadata": {
  "kernelspec": {
   "display_name": "Python 3",
   "language": "python",
   "name": "python3"
  },
  "language_info": {
   "codemirror_mode": {
    "name": "ipython",
    "version": 3
   },
   "file_extension": ".py",
   "mimetype": "text/x-python",
   "name": "python",
   "nbconvert_exporter": "python",
   "pygments_lexer": "ipython3",
   "version": "3.13.1"
  }
 },
 "nbformat": 4,
 "nbformat_minor": 5
}
